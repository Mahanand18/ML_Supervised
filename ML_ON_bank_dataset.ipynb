{
 "cells": [
  {
   "cell_type": "code",
   "execution_count": 1,
   "metadata": {},
   "outputs": [],
   "source": [
    "import numpy as np\n",
    "import matplotlib.pyplot as plt\n",
    "import pandas as pd\n",
    "import seaborn as sns\n",
    "import warnings\n",
    "warnings.filterwarnings('ignore')"
   ]
  },
  {
   "cell_type": "code",
   "execution_count": 3,
   "metadata": {},
   "outputs": [
    {
     "data": {
      "text/html": [
       "<div>\n",
       "<style scoped>\n",
       "    .dataframe tbody tr th:only-of-type {\n",
       "        vertical-align: middle;\n",
       "    }\n",
       "\n",
       "    .dataframe tbody tr th {\n",
       "        vertical-align: top;\n",
       "    }\n",
       "\n",
       "    .dataframe thead th {\n",
       "        text-align: right;\n",
       "    }\n",
       "</style>\n",
       "<table border=\"1\" class=\"dataframe\">\n",
       "  <thead>\n",
       "    <tr style=\"text-align: right;\">\n",
       "      <th></th>\n",
       "      <th>age</th>\n",
       "      <th>job</th>\n",
       "      <th>marital</th>\n",
       "      <th>education</th>\n",
       "      <th>default</th>\n",
       "      <th>balance</th>\n",
       "      <th>housing</th>\n",
       "      <th>loan</th>\n",
       "      <th>contact</th>\n",
       "      <th>day</th>\n",
       "      <th>month</th>\n",
       "      <th>duration</th>\n",
       "      <th>campaign</th>\n",
       "      <th>pdays</th>\n",
       "      <th>previous</th>\n",
       "      <th>poutcome</th>\n",
       "      <th>deposit</th>\n",
       "    </tr>\n",
       "  </thead>\n",
       "  <tbody>\n",
       "    <tr>\n",
       "      <th>0</th>\n",
       "      <td>59</td>\n",
       "      <td>0</td>\n",
       "      <td>1</td>\n",
       "      <td>1</td>\n",
       "      <td>0</td>\n",
       "      <td>2343</td>\n",
       "      <td>1</td>\n",
       "      <td>0</td>\n",
       "      <td>2</td>\n",
       "      <td>5</td>\n",
       "      <td>8</td>\n",
       "      <td>1042</td>\n",
       "      <td>1</td>\n",
       "      <td>-1</td>\n",
       "      <td>0</td>\n",
       "      <td>3</td>\n",
       "      <td>1</td>\n",
       "    </tr>\n",
       "    <tr>\n",
       "      <th>1</th>\n",
       "      <td>56</td>\n",
       "      <td>0</td>\n",
       "      <td>1</td>\n",
       "      <td>1</td>\n",
       "      <td>0</td>\n",
       "      <td>45</td>\n",
       "      <td>0</td>\n",
       "      <td>0</td>\n",
       "      <td>2</td>\n",
       "      <td>5</td>\n",
       "      <td>8</td>\n",
       "      <td>1467</td>\n",
       "      <td>1</td>\n",
       "      <td>-1</td>\n",
       "      <td>0</td>\n",
       "      <td>3</td>\n",
       "      <td>1</td>\n",
       "    </tr>\n",
       "    <tr>\n",
       "      <th>2</th>\n",
       "      <td>41</td>\n",
       "      <td>9</td>\n",
       "      <td>1</td>\n",
       "      <td>1</td>\n",
       "      <td>0</td>\n",
       "      <td>1270</td>\n",
       "      <td>1</td>\n",
       "      <td>0</td>\n",
       "      <td>2</td>\n",
       "      <td>5</td>\n",
       "      <td>8</td>\n",
       "      <td>1389</td>\n",
       "      <td>1</td>\n",
       "      <td>-1</td>\n",
       "      <td>0</td>\n",
       "      <td>3</td>\n",
       "      <td>1</td>\n",
       "    </tr>\n",
       "    <tr>\n",
       "      <th>3</th>\n",
       "      <td>55</td>\n",
       "      <td>7</td>\n",
       "      <td>1</td>\n",
       "      <td>1</td>\n",
       "      <td>0</td>\n",
       "      <td>2476</td>\n",
       "      <td>1</td>\n",
       "      <td>0</td>\n",
       "      <td>2</td>\n",
       "      <td>5</td>\n",
       "      <td>8</td>\n",
       "      <td>579</td>\n",
       "      <td>1</td>\n",
       "      <td>-1</td>\n",
       "      <td>0</td>\n",
       "      <td>3</td>\n",
       "      <td>1</td>\n",
       "    </tr>\n",
       "    <tr>\n",
       "      <th>4</th>\n",
       "      <td>54</td>\n",
       "      <td>0</td>\n",
       "      <td>1</td>\n",
       "      <td>2</td>\n",
       "      <td>0</td>\n",
       "      <td>184</td>\n",
       "      <td>0</td>\n",
       "      <td>0</td>\n",
       "      <td>2</td>\n",
       "      <td>5</td>\n",
       "      <td>8</td>\n",
       "      <td>673</td>\n",
       "      <td>2</td>\n",
       "      <td>-1</td>\n",
       "      <td>0</td>\n",
       "      <td>3</td>\n",
       "      <td>1</td>\n",
       "    </tr>\n",
       "  </tbody>\n",
       "</table>\n",
       "</div>"
      ],
      "text/plain": [
       "   age  job  marital  education  default  balance  housing  loan  contact  \\\n",
       "0   59    0        1          1        0     2343        1     0        2   \n",
       "1   56    0        1          1        0       45        0     0        2   \n",
       "2   41    9        1          1        0     1270        1     0        2   \n",
       "3   55    7        1          1        0     2476        1     0        2   \n",
       "4   54    0        1          2        0      184        0     0        2   \n",
       "\n",
       "   day  month  duration  campaign  pdays  previous  poutcome  deposit  \n",
       "0    5      8      1042         1     -1         0         3        1  \n",
       "1    5      8      1467         1     -1         0         3        1  \n",
       "2    5      8      1389         1     -1         0         3        1  \n",
       "3    5      8       579         1     -1         0         3        1  \n",
       "4    5      8       673         2     -1         0         3        1  "
      ]
     },
     "execution_count": 3,
     "metadata": {},
     "output_type": "execute_result"
    }
   ],
   "source": [
    "#To load dataset bank.csv\n",
    "df=pd.read_csv(\"bank.csv\")\n",
    "#to display first 5 records\n",
    "df.head()"
   ]
  },
  {
   "cell_type": "code",
   "execution_count": 4,
   "metadata": {},
   "outputs": [
    {
     "data": {
      "text/plain": [
       "0    5873\n",
       "1    5289\n",
       "Name: deposit, dtype: int64"
      ]
     },
     "execution_count": 4,
     "metadata": {},
     "output_type": "execute_result"
    }
   ],
   "source": [
    "df['deposit'].value_counts()"
   ]
  },
  {
   "cell_type": "code",
   "execution_count": 5,
   "metadata": {},
   "outputs": [
    {
     "data": {
      "text/plain": [
       "array([1, 0], dtype=int64)"
      ]
     },
     "execution_count": 5,
     "metadata": {},
     "output_type": "execute_result"
    }
   ],
   "source": [
    "#Analysis on Given Dataset\n",
    "#HOW many categories on output column deposit \n",
    "df[\"deposit\"].unique()"
   ]
  },
  {
   "cell_type": "code",
   "execution_count": 6,
   "metadata": {},
   "outputs": [
    {
     "name": "stdout",
     "output_type": "stream",
     "text": [
      "age          0\n",
      "job          0\n",
      "marital      0\n",
      "education    0\n",
      "default      0\n",
      "balance      0\n",
      "housing      0\n",
      "loan         0\n",
      "contact      0\n",
      "day          0\n",
      "month        0\n",
      "duration     0\n",
      "campaign     0\n",
      "pdays        0\n",
      "previous     0\n",
      "poutcome     0\n",
      "deposit      0\n",
      "dtype: int64\n"
     ]
    },
    {
     "data": {
      "image/png": "[encoded data removed]",
      "text/plain": [
       "<Figure size 432x288 with 2 Axes>"
      ]
     },
     "metadata": {
      "needs_background": "light"
     },
     "output_type": "display_data"
    }
   ],
   "source": [
    "#Check null values\n",
    "print(df.isnull().sum())\n",
    "#visualise \n",
    "sns.heatmap(df.isnull())\n",
    "plt.show()"
   ]
  },
  {
   "cell_type": "code",
   "execution_count": 7,
   "metadata": {},
   "outputs": [
    {
     "data": {
      "text/plain": [
       "age          int64\n",
       "job          int64\n",
       "marital      int64\n",
       "education    int64\n",
       "default      int64\n",
       "balance      int64\n",
       "housing      int64\n",
       "loan         int64\n",
       "contact      int64\n",
       "day          int64\n",
       "month        int64\n",
       "duration     int64\n",
       "campaign     int64\n",
       "pdays        int64\n",
       "previous     int64\n",
       "poutcome     int64\n",
       "deposit      int64\n",
       "dtype: object"
      ]
     },
     "execution_count": 7,
     "metadata": {},
     "output_type": "execute_result"
    }
   ],
   "source": [
    "#check datatype\n",
    "df.dtypes"
   ]
  },
  {
   "cell_type": "code",
   "execution_count": 8,
   "metadata": {},
   "outputs": [],
   "source": [
    "#Select input and output variable from dataset\n",
    "X=df.drop(\"deposit\",axis=1) #select all input features except deposit\n",
    "#or X=df.iloc[:,:-1]\n",
    "Y=df[\"deposit\"] #select target means output variable or Y=df.iloc[:,-1]"
   ]
  },
  {
   "cell_type": "code",
   "execution_count": 9,
   "metadata": {},
   "outputs": [],
   "source": [
    "#Train_test_split\n",
    "from sklearn.model_selection import train_test_split\n",
    "X_train,X_test,Y_train,Y_test=train_test_split(X,Y,test_size=0.3,random_state=1)"
   ]
  },
  {
   "cell_type": "code",
   "execution_count": 10,
   "metadata": {},
   "outputs": [],
   "source": [
    "#First apply scaling on input data before train the data\n",
    "#Apply standard scaler for input data training and testing\n",
    "\n",
    "from sklearn.preprocessing import StandardScaler\n",
    "#Create a object of StandardScaler class\n",
    "ss=StandardScaler()\n",
    "#means apply standard scaler for X_train data\n",
    "X_train=ss.fit_transform(X_train)\n",
    "X_test=ss.transform(X_test)"
   ]
  },
  {
   "cell_type": "code",
   "execution_count": 11,
   "metadata": {},
   "outputs": [],
   "source": [
    "#create a function\n",
    "def create_model(model): \n",
    "    model.fit(X_train,Y_train) #train the model\n",
    "    Y_pred=model.predict(X_test) #test the model\n",
    "    print(classification_report(Y_test,Y_pred))\n",
    "    print(confusion_matrix(Y_test,Y_pred))\n",
    "    return model"
   ]
  },
  {
   "cell_type": "code",
   "execution_count": 12,
   "metadata": {},
   "outputs": [],
   "source": [
    "from sklearn.metrics import classification_report\n",
    "from sklearn.metrics import confusion_matrix"
   ]
  },
  {
   "cell_type": "code",
   "execution_count": 13,
   "metadata": {},
   "outputs": [],
   "source": [
    "# use baseline model:logisticregression\n",
    "# from sklearn.linear_model import LogisticRegression"
   ]
  },
  {
   "cell_type": "code",
   "execution_count": 14,
   "metadata": {},
   "outputs": [],
   "source": [
    "# create object of logisticregression\n",
    "# lr=LogisticRegression()"
   ]
  },
  {
   "cell_type": "code",
   "execution_count": 15,
   "metadata": {},
   "outputs": [
    {
     "name": "stdout",
     "output_type": "stream",
     "text": [
      "              precision    recall  f1-score   support\n",
      "\n",
      "           0       0.80      0.82      0.81      1760\n",
      "           1       0.79      0.77      0.78      1589\n",
      "\n",
      "    accuracy                           0.80      3349\n",
      "   macro avg       0.80      0.80      0.80      3349\n",
      "weighted avg       0.80      0.80      0.80      3349\n",
      "\n",
      "[[1441  319]\n",
      " [ 359 1230]]\n"
     ]
    }
   ],
   "source": [
    "# call function\n",
    "# lr=create_model(lr)"
   ]
  },
  {
   "cell_type": "code",
   "execution_count": null,
   "metadata": {},
   "outputs": [],
   "source": [
    "# after using baseline model LogisticRegression we got recall(0)=0.82 and recall(1)=0.77 "
   ]
  },
  {
   "cell_type": "code",
   "execution_count": 16,
   "metadata": {},
   "outputs": [],
   "source": [
    "from sklearn.tree import DecisionTreeClassifier"
   ]
  },
  {
   "cell_type": "code",
   "execution_count": 17,
   "metadata": {
    "scrolled": true
   },
   "outputs": [
    {
     "name": "stdout",
     "output_type": "stream",
     "text": [
      "              precision    recall  f1-score   support\n",
      "\n",
      "           0       0.79      0.80      0.80      1760\n",
      "           1       0.78      0.77      0.77      1589\n",
      "\n",
      "    accuracy                           0.78      3349\n",
      "   macro avg       0.78      0.78      0.78      3349\n",
      "weighted avg       0.78      0.78      0.78      3349\n",
      "\n",
      "[[1407  353]\n",
      " [ 372 1217]]\n"
     ]
    }
   ],
   "source": [
    "# # create the object of decision DecisionTreeClassifier class\n",
    "# dt=DecisionTreeClassifier(random_state=1)\n",
    "# # call funciton\n",
    "# dt=create_model(dt)"
   ]
  },
  {
   "cell_type": "code",
   "execution_count": 18,
   "metadata": {
    "scrolled": true
   },
   "outputs": [
    {
     "name": "stdout",
     "output_type": "stream",
     "text": [
      "information gain [0.07713619 0.03421951 0.01696765 0.01435638 0.00045636 0.0844372\n",
      " 0.04261978 0.00693398 0.06179287 0.07658144 0.09835692 0.35400803\n",
      " 0.02231605 0.04785625 0.02585105 0.03611034]\n"
     ]
    }
   ],
   "source": [
    "# # show the information gain of all input features\n",
    "# IG=dt.feature_importances_\n",
    "# print('information gain',IG)\n",
    "# # feature_importances_ inbuilt method of DecisionTreeClassifier class"
   ]
  },
  {
   "cell_type": "code",
   "execution_count": 19,
   "metadata": {},
   "outputs": [
    {
     "data": {
      "text/plain": [
       "Index(['age', 'job', 'marital', 'education', 'default', 'balance', 'housing',\n",
       "       'loan', 'contact', 'day', 'month', 'duration', 'campaign', 'pdays',\n",
       "       'previous', 'poutcome'],\n",
       "      dtype='object')"
      ]
     },
     "execution_count": 19,
     "metadata": {},
     "output_type": "execute_result"
    }
   ],
   "source": [
    "# X.columns"
   ]
  },
  {
   "cell_type": "code",
   "execution_count": 20,
   "metadata": {
    "scrolled": true
   },
   "outputs": [
    {
     "data": {
      "text/html": [
       "<div>\n",
       "<style scoped>\n",
       "    .dataframe tbody tr th:only-of-type {\n",
       "        vertical-align: middle;\n",
       "    }\n",
       "\n",
       "    .dataframe tbody tr th {\n",
       "        vertical-align: top;\n",
       "    }\n",
       "\n",
       "    .dataframe thead th {\n",
       "        text-align: right;\n",
       "    }\n",
       "</style>\n",
       "<table border=\"1\" class=\"dataframe\">\n",
       "  <thead>\n",
       "    <tr style=\"text-align: right;\">\n",
       "      <th></th>\n",
       "      <th>input</th>\n",
       "      <th>IG</th>\n",
       "    </tr>\n",
       "  </thead>\n",
       "  <tbody>\n",
       "    <tr>\n",
       "      <th>11</th>\n",
       "      <td>duration</td>\n",
       "      <td>0.354008</td>\n",
       "    </tr>\n",
       "    <tr>\n",
       "      <th>10</th>\n",
       "      <td>month</td>\n",
       "      <td>0.098357</td>\n",
       "    </tr>\n",
       "    <tr>\n",
       "      <th>5</th>\n",
       "      <td>balance</td>\n",
       "      <td>0.084437</td>\n",
       "    </tr>\n",
       "    <tr>\n",
       "      <th>0</th>\n",
       "      <td>age</td>\n",
       "      <td>0.077136</td>\n",
       "    </tr>\n",
       "    <tr>\n",
       "      <th>9</th>\n",
       "      <td>day</td>\n",
       "      <td>0.076581</td>\n",
       "    </tr>\n",
       "    <tr>\n",
       "      <th>8</th>\n",
       "      <td>contact</td>\n",
       "      <td>0.061793</td>\n",
       "    </tr>\n",
       "    <tr>\n",
       "      <th>13</th>\n",
       "      <td>pdays</td>\n",
       "      <td>0.047856</td>\n",
       "    </tr>\n",
       "    <tr>\n",
       "      <th>6</th>\n",
       "      <td>housing</td>\n",
       "      <td>0.042620</td>\n",
       "    </tr>\n",
       "    <tr>\n",
       "      <th>15</th>\n",
       "      <td>poutcome</td>\n",
       "      <td>0.036110</td>\n",
       "    </tr>\n",
       "    <tr>\n",
       "      <th>1</th>\n",
       "      <td>job</td>\n",
       "      <td>0.034220</td>\n",
       "    </tr>\n",
       "    <tr>\n",
       "      <th>14</th>\n",
       "      <td>previous</td>\n",
       "      <td>0.025851</td>\n",
       "    </tr>\n",
       "    <tr>\n",
       "      <th>12</th>\n",
       "      <td>campaign</td>\n",
       "      <td>0.022316</td>\n",
       "    </tr>\n",
       "    <tr>\n",
       "      <th>2</th>\n",
       "      <td>marital</td>\n",
       "      <td>0.016968</td>\n",
       "    </tr>\n",
       "    <tr>\n",
       "      <th>3</th>\n",
       "      <td>education</td>\n",
       "      <td>0.014356</td>\n",
       "    </tr>\n",
       "    <tr>\n",
       "      <th>7</th>\n",
       "      <td>loan</td>\n",
       "      <td>0.006934</td>\n",
       "    </tr>\n",
       "    <tr>\n",
       "      <th>4</th>\n",
       "      <td>default</td>\n",
       "      <td>0.000456</td>\n",
       "    </tr>\n",
       "  </tbody>\n",
       "</table>\n",
       "</div>"
      ],
      "text/plain": [
       "        input        IG\n",
       "11   duration  0.354008\n",
       "10      month  0.098357\n",
       "5     balance  0.084437\n",
       "0         age  0.077136\n",
       "9         day  0.076581\n",
       "8     contact  0.061793\n",
       "13      pdays  0.047856\n",
       "6     housing  0.042620\n",
       "15   poutcome  0.036110\n",
       "1         job  0.034220\n",
       "14   previous  0.025851\n",
       "12   campaign  0.022316\n",
       "2     marital  0.016968\n",
       "3   education  0.014356\n",
       "7        loan  0.006934\n",
       "4     default  0.000456"
      ]
     },
     "execution_count": 20,
     "metadata": {},
     "output_type": "execute_result"
    }
   ],
   "source": [
    "# dict={'input':X.columns,'IG':IG}\n",
    "# # convert into dataframe\n",
    "# df1=pd.DataFrame(dict)\n",
    "# df1.sort_values('IG',ascending=False)# descending order accordiing to IG"
   ]
  },
  {
   "cell_type": "code",
   "execution_count": 21,
   "metadata": {},
   "outputs": [],
   "source": [
    "# pruning technique to reduce (overcome) overfitting\n",
    "# 1.max_depth (<=8)\n",
    "# 2.min_sample_leaf(>=45 or more <=100)"
   ]
  },
  {
   "cell_type": "code",
   "execution_count": 22,
   "metadata": {},
   "outputs": [],
   "source": [
    "#create object of decisiontrreclaassifier class and passing the parameter \n",
    "#max_depth\n",
    "# dt1=DecisionTreeClassifier(random_state=1,max_depth=3)"
   ]
  },
  {
   "cell_type": "code",
   "execution_count": 23,
   "metadata": {},
   "outputs": [
    {
     "name": "stdout",
     "output_type": "stream",
     "text": [
      "              precision    recall  f1-score   support\n",
      "\n",
      "           0       0.85      0.69      0.76      1760\n",
      "           1       0.71      0.86      0.78      1589\n",
      "\n",
      "    accuracy                           0.77      3349\n",
      "   macro avg       0.78      0.78      0.77      3349\n",
      "weighted avg       0.78      0.77      0.77      3349\n",
      "\n",
      "[[1212  548]\n",
      " [ 218 1371]]\n"
     ]
    }
   ],
   "source": [
    "# call function\n",
    "# dt1=create_model(dt1)"
   ]
  },
  {
   "cell_type": "code",
   "execution_count": 24,
   "metadata": {},
   "outputs": [],
   "source": [
    "# I=X.columns"
   ]
  },
  {
   "cell_type": "code",
   "execution_count": 25,
   "metadata": {},
   "outputs": [],
   "source": [
    "# #create the tree \n",
    "# from sklearn import tree\n",
    "# features=X.columns #input features\n",
    "# fig=plt.figure(figsize=(20,20))\n",
    "# _=tree.plot_tree(dt1,feature_names=features,filled=True)"
   ]
  },
  {
   "cell_type": "code",
   "execution_count": 26,
   "metadata": {},
   "outputs": [],
   "source": [
    "# #2nd purning technique : min_samples_leaf\n",
    "# #min_samples_leaf =45 or more means not less than=45\n",
    "# ##create object of DecisionTreeClassifier class\n",
    "# #leaf node means no child\n",
    "# dt2=DecisionTreeClassifier(random_state=1,min_samples_leaf=55)"
   ]
  },
  {
   "cell_type": "code",
   "execution_count": 27,
   "metadata": {},
   "outputs": [
    {
     "name": "stdout",
     "output_type": "stream",
     "text": [
      "              precision    recall  f1-score   support\n",
      "\n",
      "           0       0.85      0.80      0.83      1760\n",
      "           1       0.80      0.85      0.82      1589\n",
      "\n",
      "    accuracy                           0.82      3349\n",
      "   macro avg       0.82      0.83      0.82      3349\n",
      "weighted avg       0.83      0.82      0.82      3349\n",
      "\n",
      "[[1414  346]\n",
      " [ 242 1347]]\n"
     ]
    }
   ],
   "source": [
    "# call function\n",
    "# dt2=create_model(dt2)"
   ]
  },
  {
   "cell_type": "code",
   "execution_count": 29,
   "metadata": {},
   "outputs": [],
   "source": [
    "# for i in range(45,101,5):\n",
    "#   print(i)\n",
    "#   # dt2=DecisionTreeClassifier(random_state=1,min_samples_leaf=i) #by default gini\n",
    "#   #call funciton\n",
    "#   dt2=create_model(dt2)"
   ]
  },
  {
   "cell_type": "code",
   "execution_count": 31,
   "metadata": {},
   "outputs": [
    {
     "name": "stdout",
     "output_type": "stream",
     "text": [
      "45\n",
      "              precision    recall  f1-score   support\n",
      "\n",
      "           0       0.85      0.80      0.83      1760\n",
      "           1       0.80      0.85      0.82      1589\n",
      "\n",
      "    accuracy                           0.82      3349\n",
      "   macro avg       0.82      0.83      0.82      3349\n",
      "weighted avg       0.83      0.82      0.82      3349\n",
      "\n",
      "[[1414  346]\n",
      " [ 242 1347]]\n",
      "50\n",
      "              precision    recall  f1-score   support\n",
      "\n",
      "           0       0.85      0.80      0.83      1760\n",
      "           1       0.80      0.85      0.82      1589\n",
      "\n",
      "    accuracy                           0.82      3349\n",
      "   macro avg       0.82      0.83      0.82      3349\n",
      "weighted avg       0.83      0.82      0.82      3349\n",
      "\n",
      "[[1414  346]\n",
      " [ 242 1347]]\n",
      "55\n",
      "              precision    recall  f1-score   support\n",
      "\n",
      "           0       0.85      0.80      0.83      1760\n",
      "           1       0.80      0.85      0.82      1589\n",
      "\n",
      "    accuracy                           0.82      3349\n",
      "   macro avg       0.82      0.83      0.82      3349\n",
      "weighted avg       0.83      0.82      0.82      3349\n",
      "\n",
      "[[1414  346]\n",
      " [ 242 1347]]\n",
      "60\n",
      "              precision    recall  f1-score   support\n",
      "\n",
      "           0       0.85      0.80      0.83      1760\n",
      "           1       0.80      0.85      0.82      1589\n",
      "\n",
      "    accuracy                           0.82      3349\n",
      "   macro avg       0.82      0.83      0.82      3349\n",
      "weighted avg       0.83      0.82      0.82      3349\n",
      "\n",
      "[[1414  346]\n",
      " [ 242 1347]]\n",
      "65\n",
      "              precision    recall  f1-score   support\n",
      "\n",
      "           0       0.85      0.80      0.83      1760\n",
      "           1       0.80      0.85      0.82      1589\n",
      "\n",
      "    accuracy                           0.82      3349\n",
      "   macro avg       0.82      0.83      0.82      3349\n",
      "weighted avg       0.83      0.82      0.82      3349\n",
      "\n",
      "[[1414  346]\n",
      " [ 242 1347]]\n",
      "70\n",
      "              precision    recall  f1-score   support\n",
      "\n",
      "           0       0.85      0.80      0.83      1760\n",
      "           1       0.80      0.85      0.82      1589\n",
      "\n",
      "    accuracy                           0.82      3349\n",
      "   macro avg       0.82      0.83      0.82      3349\n",
      "weighted avg       0.83      0.82      0.82      3349\n",
      "\n",
      "[[1414  346]\n",
      " [ 242 1347]]\n",
      "75\n",
      "              precision    recall  f1-score   support\n",
      "\n",
      "           0       0.85      0.80      0.83      1760\n",
      "           1       0.80      0.85      0.82      1589\n",
      "\n",
      "    accuracy                           0.82      3349\n",
      "   macro avg       0.82      0.83      0.82      3349\n",
      "weighted avg       0.83      0.82      0.82      3349\n",
      "\n",
      "[[1414  346]\n",
      " [ 242 1347]]\n",
      "80\n",
      "              precision    recall  f1-score   support\n",
      "\n",
      "           0       0.85      0.80      0.83      1760\n",
      "           1       0.80      0.85      0.82      1589\n",
      "\n",
      "    accuracy                           0.82      3349\n",
      "   macro avg       0.82      0.83      0.82      3349\n",
      "weighted avg       0.83      0.82      0.82      3349\n",
      "\n",
      "[[1414  346]\n",
      " [ 242 1347]]\n",
      "85\n",
      "              precision    recall  f1-score   support\n",
      "\n",
      "           0       0.85      0.80      0.83      1760\n",
      "           1       0.80      0.85      0.82      1589\n",
      "\n",
      "    accuracy                           0.82      3349\n",
      "   macro avg       0.82      0.83      0.82      3349\n",
      "weighted avg       0.83      0.82      0.82      3349\n",
      "\n",
      "[[1414  346]\n",
      " [ 242 1347]]\n",
      "90\n",
      "              precision    recall  f1-score   support\n",
      "\n",
      "           0       0.85      0.80      0.83      1760\n",
      "           1       0.80      0.85      0.82      1589\n",
      "\n",
      "    accuracy                           0.82      3349\n",
      "   macro avg       0.82      0.83      0.82      3349\n",
      "weighted avg       0.83      0.82      0.82      3349\n",
      "\n",
      "[[1414  346]\n",
      " [ 242 1347]]\n",
      "95\n",
      "              precision    recall  f1-score   support\n",
      "\n",
      "           0       0.85      0.80      0.83      1760\n",
      "           1       0.80      0.85      0.82      1589\n",
      "\n",
      "    accuracy                           0.82      3349\n",
      "   macro avg       0.82      0.83      0.82      3349\n",
      "weighted avg       0.83      0.82      0.82      3349\n",
      "\n",
      "[[1414  346]\n",
      " [ 242 1347]]\n",
      "100\n",
      "              precision    recall  f1-score   support\n",
      "\n",
      "           0       0.85      0.80      0.83      1760\n",
      "           1       0.80      0.85      0.82      1589\n",
      "\n",
      "    accuracy                           0.82      3349\n",
      "   macro avg       0.82      0.83      0.82      3349\n",
      "weighted avg       0.83      0.82      0.82      3349\n",
      "\n",
      "[[1414  346]\n",
      " [ 242 1347]]\n"
     ]
    }
   ],
   "source": [
    "# for i in range(45,101,5):\n",
    "#   print(i)\n",
    "#   # dt2=DecisionTreeClassifier(random_state=1,min_samples_leaf=i,criterion='entropy')\n",
    "#   #call funciton\n",
    "#   dt2=create_model(dt2)                                                                                                       "
   ]
  },
  {
   "cell_type": "code",
   "execution_count": null,
   "metadata": {},
   "outputs": [],
   "source": [
    "# after using  model DecisionTreeClassifier with gini we got recall(0)=0.80 and recall(1)=0.77\n",
    "# after using pruning technique with max_depth recall(0)=0.69 and recall(1)=0.86 and with mean_samples_leaf recall(0)=0.80\n",
    "# recall(1)=0.85"
   ]
  },
  {
   "cell_type": "code",
   "execution_count": 32,
   "metadata": {},
   "outputs": [],
   "source": [
    "# use ensempling technique on banking dataset \n",
    "#random foresttree"
   ]
  },
  {
   "cell_type": "code",
   "execution_count": 33,
   "metadata": {},
   "outputs": [
    {
     "data": {
      "text/plain": [
       "(11162, 16)"
      ]
     },
     "execution_count": 33,
     "metadata": {},
     "output_type": "execute_result"
    }
   ],
   "source": [
    "# X.shape"
   ]
  },
  {
   "cell_type": "code",
   "execution_count": 34,
   "metadata": {},
   "outputs": [],
   "source": [
    "# from sklearn.ensemble import RandomForestClassifier"
   ]
  },
  {
   "cell_type": "code",
   "execution_count": 35,
   "metadata": {},
   "outputs": [],
   "source": [
    "# # create object of RandomForestClassifier\n",
    "# for i in range(1,200):\n",
    "#   rfc=RandomForestClassifier(n_estimators=i,max_features=10,random_state=1)\n",
    "#   #by default gini\n",
    "#   #call funciton\n",
    "#   print('no of decision tree',i)\n",
    "#   rfc=create_model(rfc)\n",
    "# #here n_estimators means take how many no. of decisiontree \n",
    "# #max_features means take how many input"
   ]
  },
  {
   "cell_type": "code",
   "execution_count": 36,
   "metadata": {},
   "outputs": [],
   "source": [
    "# #  create object of RandomForestClassifier\n",
    "# for i in range(1,17):\n",
    "#   rfc=RandomForestClassifier(n_estimators=15,max_features=i,random_state=1)\n",
    "#   #by default gini\n",
    "#   #call funciton\n",
    "#   print('no of feature',i)\n",
    "#   rfc=create_model(rfc)"
   ]
  },
  {
   "cell_type": "code",
   "execution_count": 37,
   "metadata": {
    "scrolled": true
   },
   "outputs": [
    {
     "name": "stdout",
     "output_type": "stream",
     "text": [
      "              precision    recall  f1-score   support\n",
      "\n",
      "           0       0.88      0.81      0.84      1760\n",
      "           1       0.81      0.88      0.84      1589\n",
      "\n",
      "    accuracy                           0.84      3349\n",
      "   macro avg       0.84      0.84      0.84      3349\n",
      "weighted avg       0.84      0.84      0.84      3349\n",
      "\n",
      "[[1429  331]\n",
      " [ 198 1391]]\n"
     ]
    }
   ],
   "source": [
    "rfc=RandomForestClassifier(n_estimators=15,max_features=5,random_state=1)\n",
    "rfc=create_model(rfc)"
   ]
  },
  {
   "cell_type": "code",
   "execution_count": null,
   "metadata": {},
   "outputs": [],
   "source": [
    "# after using  model RandomForestClassifier  we got recall(0)=0.81 and recall(1)=0.88"
   ]
  },
  {
   "cell_type": "code",
   "execution_count": 38,
   "metadata": {},
   "outputs": [],
   "source": [
    "# Boosting"
   ]
  },
  {
   "cell_type": "code",
   "execution_count": 39,
   "metadata": {},
   "outputs": [],
   "source": [
    "# from sklearn.ensemble import AdaBoostClassifier"
   ]
  },
  {
   "cell_type": "code",
   "execution_count": 40,
   "metadata": {},
   "outputs": [],
   "source": [
    "# create object for AdaBoostClassifier class\n",
    "# for i in range(1,17):\n",
    "  # ada=AdaBoostClassifier(random_state=1,n_estimators=i)\n",
    "  # print('no of features',i)\n",
    "  # ada=create_model(ada) #call function"
   ]
  },
  {
   "cell_type": "code",
   "execution_count": 41,
   "metadata": {},
   "outputs": [
    {
     "name": "stdout",
     "output_type": "stream",
     "text": [
      "              precision    recall  f1-score   support\n",
      "\n",
      "           0       0.80      0.72      0.76      1760\n",
      "           1       0.72      0.80      0.76      1589\n",
      "\n",
      "    accuracy                           0.76      3349\n",
      "   macro avg       0.76      0.76      0.76      3349\n",
      "weighted avg       0.76      0.76      0.76      3349\n",
      "\n",
      "[[1262  498]\n",
      " [ 310 1279]]\n"
     ]
    }
   ],
   "source": [
    "# ada=AdaBoostClassifier(random_state=1,n_estimators=3)\n",
    "# ada=create_model(ada)"
   ]
  },
  {
   "cell_type": "code",
   "execution_count": 42,
   "metadata": {
    "scrolled": true
   },
   "outputs": [
    {
     "data": {
      "text/html": [
       "<div>\n",
       "<style scoped>\n",
       "    .dataframe tbody tr th:only-of-type {\n",
       "        vertical-align: middle;\n",
       "    }\n",
       "\n",
       "    .dataframe tbody tr th {\n",
       "        vertical-align: top;\n",
       "    }\n",
       "\n",
       "    .dataframe thead th {\n",
       "        text-align: right;\n",
       "    }\n",
       "</style>\n",
       "<table border=\"1\" class=\"dataframe\">\n",
       "  <thead>\n",
       "    <tr style=\"text-align: right;\">\n",
       "      <th></th>\n",
       "      <th>input</th>\n",
       "      <th>IG</th>\n",
       "    </tr>\n",
       "  </thead>\n",
       "  <tbody>\n",
       "    <tr>\n",
       "      <th>11</th>\n",
       "      <td>duration</td>\n",
       "      <td>0.666667</td>\n",
       "    </tr>\n",
       "    <tr>\n",
       "      <th>8</th>\n",
       "      <td>contact</td>\n",
       "      <td>0.333333</td>\n",
       "    </tr>\n",
       "    <tr>\n",
       "      <th>0</th>\n",
       "      <td>age</td>\n",
       "      <td>0.000000</td>\n",
       "    </tr>\n",
       "    <tr>\n",
       "      <th>1</th>\n",
       "      <td>job</td>\n",
       "      <td>0.000000</td>\n",
       "    </tr>\n",
       "    <tr>\n",
       "      <th>2</th>\n",
       "      <td>marital</td>\n",
       "      <td>0.000000</td>\n",
       "    </tr>\n",
       "    <tr>\n",
       "      <th>3</th>\n",
       "      <td>education</td>\n",
       "      <td>0.000000</td>\n",
       "    </tr>\n",
       "    <tr>\n",
       "      <th>4</th>\n",
       "      <td>default</td>\n",
       "      <td>0.000000</td>\n",
       "    </tr>\n",
       "    <tr>\n",
       "      <th>5</th>\n",
       "      <td>balance</td>\n",
       "      <td>0.000000</td>\n",
       "    </tr>\n",
       "    <tr>\n",
       "      <th>6</th>\n",
       "      <td>housing</td>\n",
       "      <td>0.000000</td>\n",
       "    </tr>\n",
       "    <tr>\n",
       "      <th>7</th>\n",
       "      <td>loan</td>\n",
       "      <td>0.000000</td>\n",
       "    </tr>\n",
       "    <tr>\n",
       "      <th>9</th>\n",
       "      <td>day</td>\n",
       "      <td>0.000000</td>\n",
       "    </tr>\n",
       "    <tr>\n",
       "      <th>10</th>\n",
       "      <td>month</td>\n",
       "      <td>0.000000</td>\n",
       "    </tr>\n",
       "    <tr>\n",
       "      <th>12</th>\n",
       "      <td>campaign</td>\n",
       "      <td>0.000000</td>\n",
       "    </tr>\n",
       "    <tr>\n",
       "      <th>13</th>\n",
       "      <td>pdays</td>\n",
       "      <td>0.000000</td>\n",
       "    </tr>\n",
       "    <tr>\n",
       "      <th>14</th>\n",
       "      <td>previous</td>\n",
       "      <td>0.000000</td>\n",
       "    </tr>\n",
       "    <tr>\n",
       "      <th>15</th>\n",
       "      <td>poutcome</td>\n",
       "      <td>0.000000</td>\n",
       "    </tr>\n",
       "  </tbody>\n",
       "</table>\n",
       "</div>"
      ],
      "text/plain": [
       "        input        IG\n",
       "11   duration  0.666667\n",
       "8     contact  0.333333\n",
       "0         age  0.000000\n",
       "1         job  0.000000\n",
       "2     marital  0.000000\n",
       "3   education  0.000000\n",
       "4     default  0.000000\n",
       "5     balance  0.000000\n",
       "6     housing  0.000000\n",
       "7        loan  0.000000\n",
       "9         day  0.000000\n",
       "10      month  0.000000\n",
       "12   campaign  0.000000\n",
       "13      pdays  0.000000\n",
       "14   previous  0.000000\n",
       "15   poutcome  0.000000"
      ]
     },
     "execution_count": 42,
     "metadata": {},
     "output_type": "execute_result"
    }
   ],
   "source": [
    "# # show the information gain of all input features\n",
    "# IG=ada.feature_importances_\n",
    "# dict={'input':X.columns,'IG':IG}\n",
    "# # convert into dataframe\n",
    "# df1=pd.DataFrame(dict)\n",
    "# df1.sort_values('IG',ascending=False)# descending order accordiing to IG"
   ]
  },
  {
   "cell_type": "code",
   "execution_count": null,
   "metadata": {},
   "outputs": [],
   "source": [
    "# after using  model AdaboostClassifier with  we got recall(0)=0.72 and recall(1)=0.80"
   ]
  },
  {
   "cell_type": "code",
   "execution_count": 43,
   "metadata": {},
   "outputs": [],
   "source": [
    "# call gradientboostingclassifier class from following package\n",
    "# from sklearn.ensemble import GradientBoostingClassifier"
   ]
  },
  {
   "cell_type": "code",
   "execution_count": 44,
   "metadata": {},
   "outputs": [],
   "source": [
    "# # create class of gradientboostingclassifier class\n",
    "# for i in range(1,101):\n",
    "#   gbc=GradientBoostingClassifier(random_state=1,n_estimators=i)\n",
    "#   #call function\n",
    "#   print('no of n_estimators',i)\n",
    "#   gbc=create_model(gbc)\n",
    "#   # n_estimator can be <=100\n",
    "#   #algo. use decisiontreeclassifier"
   ]
  },
  {
   "cell_type": "code",
   "execution_count": 45,
   "metadata": {
    "scrolled": true
   },
   "outputs": [
    {
     "name": "stdout",
     "output_type": "stream",
     "text": [
      "              precision    recall  f1-score   support\n",
      "\n",
      "           0       0.85      0.81      0.83      1760\n",
      "           1       0.80      0.85      0.82      1589\n",
      "\n",
      "    accuracy                           0.83      3349\n",
      "   macro avg       0.83      0.83      0.83      3349\n",
      "weighted avg       0.83      0.83      0.83      3349\n",
      "\n",
      "[[1427  333]\n",
      " [ 246 1343]]\n"
     ]
    }
   ],
   "source": [
    "# gbc=GradientBoostingClassifier(random_state=1,n_estimators=51)\n",
    "# gbc=create_model(gbc)"
   ]
  },
  {
   "cell_type": "code",
   "execution_count": null,
   "metadata": {},
   "outputs": [],
   "source": [
    "# after using  model GradienBoosting  we got recall(0)=0.81 and recall(1)=0.85"
   ]
  },
  {
   "cell_type": "code",
   "execution_count": 46,
   "metadata": {},
   "outputs": [],
   "source": [
    "# Extreme gradient boosting:XGB Boosting"
   ]
  },
  {
   "cell_type": "code",
   "execution_count": 47,
   "metadata": {},
   "outputs": [],
   "source": [
    "# from xgboost import XGBClassifier"
   ]
  },
  {
   "cell_type": "code",
   "execution_count": 48,
   "metadata": {},
   "outputs": [],
   "source": [
    "# # create object of class xgbclassifier\n",
    "# for i in range(1,101):\n",
    "#   xgc=XGBClassifier(n_estimators=i,random_state=1,reg_alpha=1)\n",
    "#   #call function\n",
    "#   print('no of estimators',i)\n",
    "#   xgc=create_model(xgc)\n",
    "#   #automatic overfitting:reg means regularizationi and alpha or lambda\n",
    "#   #hyperparameter\n",
    "#   #n_enstimators<=100"
   ]
  },
  {
   "cell_type": "code",
   "execution_count": 49,
   "metadata": {},
   "outputs": [],
   "source": [
    "# xgc=XGBClassifier(n_estimators=2,random_state=1,reg_alpha=1)\n",
    "# xgc=create_model(xgc)"
   ]
  },
  {
   "cell_type": "code",
   "execution_count": 50,
   "metadata": {},
   "outputs": [],
   "source": [
    "# # linear kernel function\n",
    "# # call class\n",
    "# from sklearn.svm import LinearSVC\n",
    "# # linearsvc means linear support vector classifier\n",
    "# # create object\n",
    "# svc=LinearSVC(random_state=1) #hard margin default"
   ]
  },
  {
   "cell_type": "code",
   "execution_count": 51,
   "metadata": {},
   "outputs": [
    {
     "name": "stdout",
     "output_type": "stream",
     "text": [
      "              precision    recall  f1-score   support\n",
      "\n",
      "           0       0.80      0.82      0.81      1760\n",
      "           1       0.79      0.77      0.78      1589\n",
      "\n",
      "    accuracy                           0.80      3349\n",
      "   macro avg       0.80      0.80      0.80      3349\n",
      "weighted avg       0.80      0.80      0.80      3349\n",
      "\n",
      "[[1444  316]\n",
      " [ 364 1225]]\n"
     ]
    }
   ],
   "source": [
    "# svc=create_model(svc)"
   ]
  },
  {
   "cell_type": "code",
   "execution_count": 54,
   "metadata": {},
   "outputs": [],
   "source": [
    "# # check whether model is overfit or not means add external error\n",
    "# # during training time\n",
    "# # create object\n",
    "# svc1=LinearSVC(random_state=1,C=0.6) \n",
    "# # here c inbuiilt parameeter which pass the values =0.5(0.001to 1)\n",
    "# # value of c<=1"
   ]
  },
  {
   "cell_type": "code",
   "execution_count": 55,
   "metadata": {},
   "outputs": [
    {
     "name": "stdout",
     "output_type": "stream",
     "text": [
      "              precision    recall  f1-score   support\n",
      "\n",
      "           0       0.80      0.82      0.81      1760\n",
      "           1       0.80      0.77      0.78      1589\n",
      "\n",
      "    accuracy                           0.80      3349\n",
      "   macro avg       0.80      0.80      0.80      3349\n",
      "weighted avg       0.80      0.80      0.80      3349\n",
      "\n",
      "[[1446  314]\n",
      " [ 364 1225]]\n"
     ]
    }
   ],
   "source": [
    "# # call funcitoin\n",
    "# svc=create_model(svc1)"
   ]
  },
  {
   "cell_type": "code",
   "execution_count": null,
   "metadata": {},
   "outputs": [],
   "source": [
    "# after using  model SupportVactorMachine  we got recall(0)=0.82 and recall(1)=0.77"
   ]
  },
  {
   "cell_type": "markdown",
   "metadata": {},
   "source": [
    "## Conclusion"
   ]
  },
  {
   "cell_type": "markdown",
   "metadata": {},
   "source": [
    "#### after using baseline model LogisticRegression we got recall(0)=0.82 and recall(1)=0.77 \n",
    "#### after using  model DecisionTreeClassifier with gini we got recall(0)=0.80 and recall(1)=0.77\n",
    "#### after using pruning technique with max_depth recall(0)=0.69 and recall(1)=0.86 and with mean_samples_leaf recall(0)=0.80\n",
    "#### recall(1)=0.85\n",
    "#### after using  model RandomForestClassifier  we got recall(0)=0.81 and recall(1)=0.88\n",
    "#### after using  model AdaboostClassifier with  we got recall(0)=0.72 and recall(1)=0.80\n",
    "#### after using  model GradienBoosting  we got recall(0)=0.81 and recall(1)=0.85\n",
    "#### after using  model SupportVactorMachine  we got recall(0)=0.82 and recall(1)=0.77\n",
    "#### above we can see best recall accuracy for this dataset is RandomForestClassifier ensemble technique which accuracy \n",
    "#### is 0.88 for 1..\n",
    "#### so best model for this dataset is RandomForestClassifier ensemble technique with 0.88 accuracy"
   ]
  }
 ],
 "metadata": {
  "kernelspec": {
   "display_name": "Python 3",
   "language": "python",
   "name": "python3"
  },
  "language_info": {
   "codemirror_mode": {
    "name": "ipython",
    "version": 3
   },
   "file_extension": ".py",
   "mimetype": "text/x-python",
   "name": "python",
   "nbconvert_exporter": "python",
   "pygments_lexer": "ipython3",
   "version": "3.8.3"
  }
 },
 "nbformat": 4,
 "nbformat_minor": 4
}
